{
 "cells": [
  {
   "cell_type": "code",
   "execution_count": 1,
   "id": "9cfb7d2a-57f0-49bd-8b05-a0f8807be17b",
   "metadata": {},
   "outputs": [
    {
     "name": "stderr",
     "output_type": "stream",
     "text": [
      "/nfs/team205/lisa_dinithi/miniconda3/envs/mvTCR/lib/python3.8/site-packages/tqdm/auto.py:22: TqdmWarning: IProgress not found. Please update jupyter and ipywidgets. See https://ipywidgets.readthedocs.io/en/stable/user_install.html\n",
      "  from .autonotebook import tqdm as notebook_tqdm\n"
     ]
    }
   ],
   "source": [
    "import sys\n",
    "import scanpy as sc\n",
    "from sklearn.preprocessing import OneHotEncoder\n",
    "# cd to mvTCR directory\n",
    "sys.path.append('/path/to/mvTCR-master')\n",
    "from tcr_embedding.models.model_selection import run_model_selection\n",
    "from tcr_embedding.utils_preprocessing import encode_tcr\n",
    "import tcr_embedding.utils_training as utils\n",
    "from tcr_embedding.utils_preprocessing import group_shuffle_split"
   ]
  },
  {
   "cell_type": "code",
   "execution_count": 2,
   "id": "b1743b7d-37b6-41bd-9b13-a0c5c8e64714",
   "metadata": {},
   "outputs": [
    {
     "data": {
      "text/plain": [
       "AnnData object with n_obs × n_vars = 17157 × 33538\n",
       "    obs: 'file', 'donor', 'anno_lvl_2_final_clean', 'multi_chain', 'extra_chains', 'IR_VJ_1_c_call', 'IR_VJ_2_c_call', 'IR_VDJ_1_c_call', 'IR_VDJ_2_c_call', 'IR_VJ_1_consensus_count', 'IR_VJ_2_consensus_count', 'IR_VDJ_1_consensus_count', 'IR_VDJ_2_consensus_count', 'IR_VJ_1_d_call', 'IR_VJ_2_d_call', 'IR_VDJ_1_d_call', 'IR_VDJ_2_d_call', 'IR_VJ_1_duplicate_count', 'IR_VJ_2_duplicate_count', 'IR_VDJ_1_duplicate_count', 'IR_VDJ_2_duplicate_count', 'IR_VJ_1_j_call', 'IR_VJ_2_j_call', 'IR_VDJ_1_j_call', 'IR_VDJ_2_j_call', 'IR_VJ_1_junction', 'IR_VJ_2_junction', 'IR_VDJ_1_junction', 'IR_VDJ_2_junction', 'IR_VJ_1_junction_aa', 'IR_VJ_2_junction_aa', 'IR_VDJ_1_junction_aa', 'IR_VDJ_2_junction_aa', 'IR_VJ_1_locus', 'IR_VJ_2_locus', 'IR_VDJ_1_locus', 'IR_VDJ_2_locus', 'IR_VJ_1_productive', 'IR_VJ_2_productive', 'IR_VDJ_1_productive', 'IR_VDJ_2_productive', 'IR_VJ_1_v_call', 'IR_VJ_2_v_call', 'IR_VDJ_1_v_call', 'IR_VDJ_2_v_call', 'has_ir', 'receptor_type', 'receptor_subtype', 'chain_pairing', 'clonotype', 'clonotype_size', 'beta_len', 'alpha_len'\n",
       "    var: 'GeneID', 'GeneName', 'highly_variable', 'means', 'dispersions', 'dispersions_norm'\n",
       "    uns: 'aa_to_id', 'anno_lvl_2_LYMPHOID_colors', 'anno_lvl_2_final_clean_colors', 'clonotype', 'dendrogram_scvi_clusters', 'donor_colors', 'ir_dist_nt_identity', 'isin_HSC_IMMUNE_colors', 'isin_LYMPHOID_colors', 'isin_MEM_PROGENITORS_colors', 'isin_MYELOID_LYMPHOID_colors', 'isin_MYELOID_colors', 'isin_STROMA_colors', 'leiden_150_pred_label_expanded_colors', 'neighbors', 'nhood_adata', 'organ_colors', 'pseudobulk_assignments', 'scvi', 'scvi_clusters_colors', 'umap', 'uniform_label_expanded_merged_propagated_colors'\n",
       "    obsm: 'X_scvi', 'X_umap', 'alpha_seq', 'beta_seq', 'nhoods'\n",
       "    obsp: 'connectivities', 'distances', 'scvi_connectivities', 'scvi_distances'"
      ]
     },
     "execution_count": 2,
     "metadata": {},
     "output_type": "execute_result"
    }
   ],
   "source": [
    "adata = sc.read_h5ad('/23-01-07-mvtcr-prep/mvtcr-input-scirpy.h5ad')\n",
    "adata"
   ]
  },
  {
   "cell_type": "code",
   "execution_count": 12,
   "id": "8a1021ea-f336-4628-81c3-b31c857831ac",
   "metadata": {},
   "outputs": [],
   "source": [
    "# pass requried TCR info for mvTCR\n",
    "\n",
    "len_beta = adata.obs['IR_VJ_1_junction_aa'].str.len().max()\n",
    "len_alpha= adata.obs['IR_VDJ_1_junction_aa'].str.len().max()\n",
    "pad = max(len_beta, len_alpha)\n",
    "\n",
    "encode_tcr(adata, 'IR_VJ_1_junction_aa', 'IR_VDJ_1_junction_aa', pad)\n",
    "\n",
    "# one hot encode the conditional variable (donor) and save to obsm\n",
    "enc = OneHotEncoder(sparse=False)\n",
    "enc.fit(adata.obs['donor'].to_numpy().reshape(-1, 1))\n",
    "adata.obsm['donor'] = enc.transform(adata.obs['donor'].to_numpy().reshape(-1, 1))\n",
    "adata.uns['donor_enc'] = enc.categories_\n",
    "\n",
    "# set training and validation split\n",
    "train, val = group_shuffle_split(adata, group_col='clonotype', val_split=0.20, random_seed=123456789)\n",
    "adata.obs['set'] = 'train'\n",
    "adata.obs.loc[val.obs.index, 'set'] = 'val'"
   ]
  },
  {
   "cell_type": "markdown",
   "id": "6afe54a9-4b20-4f61-bbee-08dd5990f2d6",
   "metadata": {},
   "source": [
    "Modify the weight ratio used in the loss function by changing contrib_GEX and contrib_VDJ in the code below, and give each new run a new name."
   ]
  },
  {
   "cell_type": "code",
   "execution_count": 13,
   "id": "33dded8d-4104-4a55-ae6d-202281d728ea",
   "metadata": {},
   "outputs": [
    {
     "name": "stderr",
     "output_type": "stream",
     "text": [
      "\u001b[32m[I 2023-01-16 16:28:38,317]\u001b[0m A new study created in RDB with name: logger_test_2\u001b[0m\n",
      "  0%|                                                     | 0/4 [00:00<?, ?it/s]computing neighbors\n",
      "    using data matrix X directly\n",
      "OMP: Info #276: omp_set_nested routine deprecated, please use omp_set_max_active_levels instead.\n",
      "    finished: added to `.uns['neighbors']`\n",
      "    `.obsp['distances']`, distances for each pair of neighbors\n",
      "    `.obsp['connectivities']`, weighted adjacency matrix (0:00:06)\n",
      "computing neighbors\n",
      "    using data matrix X directly\n",
      "    finished: added to `.uns['neighbors']`\n",
      "    `.obsp['distances']`, distances for each pair of neighbors\n",
      "    `.obsp['connectivities']`, weighted adjacency matrix (0:00:00)\n",
      " 25%|███████████▎                                 | 1/4 [00:20<01:01, 20.37s/it]computing neighbors\n",
      "    using data matrix X directly\n",
      "    finished: added to `.uns['neighbors']`\n",
      "    `.obsp['distances']`, distances for each pair of neighbors\n",
      "    `.obsp['connectivities']`, weighted adjacency matrix (0:00:00)\n",
      "computing neighbors\n",
      "    using data matrix X directly\n",
      "    finished: added to `.uns['neighbors']`\n",
      "    `.obsp['distances']`, distances for each pair of neighbors\n",
      "    `.obsp['connectivities']`, weighted adjacency matrix (0:00:00)\n",
      " 50%|██████████████████████▌                      | 2/4 [00:46<00:47, 23.63s/it]computing neighbors\n",
      "    using data matrix X directly\n",
      "    finished: added to `.uns['neighbors']`\n",
      "    `.obsp['distances']`, distances for each pair of neighbors\n",
      "    `.obsp['connectivities']`, weighted adjacency matrix (0:00:00)\n",
      "computing neighbors\n",
      "    using data matrix X directly\n",
      "    finished: added to `.uns['neighbors']`\n",
      "    `.obsp['distances']`, distances for each pair of neighbors\n",
      "    `.obsp['connectivities']`, weighted adjacency matrix (0:00:00)\n",
      " 75%|█████████████████████████████████▊           | 3/4 [01:12<00:24, 24.93s/it]computing neighbors\n",
      "    using data matrix X directly\n",
      "    finished: added to `.uns['neighbors']`\n",
      "    `.obsp['distances']`, distances for each pair of neighbors\n",
      "    `.obsp['connectivities']`, weighted adjacency matrix (0:00:00)\n",
      "computing neighbors\n",
      "    using data matrix X directly\n",
      "    finished: added to `.uns['neighbors']`\n",
      "    `.obsp['distances']`, distances for each pair of neighbors\n",
      "    `.obsp['connectivities']`, weighted adjacency matrix (0:00:00)\n",
      "100%|█████████████████████████████████████████████| 4/4 [01:39<00:00, 24.93s/it]\n",
      "computing neighbors\n",
      "    finished: added to `.uns['neighbors']`\n",
      "    `.obsp['distances']`, distances for each pair of neighbors\n",
      "    `.obsp['connectivities']`, weighted adjacency matrix (0:00:13)\n",
      "computing UMAP\n",
      "    finished: added\n",
      "    'X_umap', UMAP coordinates (adata.obsm) (0:00:15)\n",
      "\u001b[32m[I 2023-01-16 16:31:06,643]\u001b[0m Trial 0 finished with value: 0.6324090034424144 and parameters: {'dropout': 0.1, 'activation': 'linear', 'rna_hidden': 1500, 'hdim': 200, 'shared_hidden': 100, 'rna_num_layers': 1, 'tfmr_encoding_layers': 4, 'loss_weights_kl': 4.0428727350273357e-07, 'loss_weights_tcr': 0.00834110643236209, 'lr': 1.0994335574766187e-05, 'zdim': 50, 'tfmr_embedding_size': 16, 'tfmr_num_heads': 8, 'tfmr_dropout': 0.15000000000000002}. Best is trial 0 with value: 0.6324090034424144.\u001b[0m\n",
      "  0%|                                                     | 0/4 [00:00<?, ?it/s]computing neighbors\n",
      "    using data matrix X directly\n",
      "    finished: added to `.uns['neighbors']`\n",
      "    `.obsp['distances']`, distances for each pair of neighbors\n",
      "    `.obsp['connectivities']`, weighted adjacency matrix (0:00:00)\n",
      "computing neighbors\n",
      "    using data matrix X directly\n",
      "    finished: added to `.uns['neighbors']`\n",
      "    `.obsp['distances']`, distances for each pair of neighbors\n",
      "    `.obsp['connectivities']`, weighted adjacency matrix (0:00:00)\n",
      " 25%|███████████▎                                 | 1/4 [00:23<01:10, 23.52s/it]computing neighbors\n",
      "    using data matrix X directly\n",
      "    finished: added to `.uns['neighbors']`\n",
      "    `.obsp['distances']`, distances for each pair of neighbors\n",
      "    `.obsp['connectivities']`, weighted adjacency matrix (0:00:00)\n",
      "computing neighbors\n",
      "    using data matrix X directly\n",
      "    finished: added to `.uns['neighbors']`\n",
      "    `.obsp['distances']`, distances for each pair of neighbors\n",
      "    `.obsp['connectivities']`, weighted adjacency matrix (0:00:00)\n",
      " 50%|██████████████████████▌                      | 2/4 [00:42<00:41, 20.58s/it]computing neighbors\n",
      "    using data matrix X directly\n",
      "    finished: added to `.uns['neighbors']`\n",
      "    `.obsp['distances']`, distances for each pair of neighbors\n",
      "    `.obsp['connectivities']`, weighted adjacency matrix (0:00:00)\n",
      "computing neighbors\n",
      "    using data matrix X directly\n",
      "    finished: added to `.uns['neighbors']`\n",
      "    `.obsp['distances']`, distances for each pair of neighbors\n",
      "    `.obsp['connectivities']`, weighted adjacency matrix (0:00:00)\n",
      " 75%|█████████████████████████████████▊           | 3/4 [01:03<00:21, 21.08s/it]computing neighbors\n",
      "    using data matrix X directly\n",
      "    finished: added to `.uns['neighbors']`\n",
      "    `.obsp['distances']`, distances for each pair of neighbors\n",
      "    `.obsp['connectivities']`, weighted adjacency matrix (0:00:00)\n",
      "computing neighbors\n",
      "    using data matrix X directly\n",
      "    finished: added to `.uns['neighbors']`\n",
      "    `.obsp['distances']`, distances for each pair of neighbors\n",
      "    `.obsp['connectivities']`, weighted adjacency matrix (0:00:00)\n",
      "100%|█████████████████████████████████████████████| 4/4 [01:18<00:00, 19.69s/it]\n",
      "computing neighbors\n",
      "    finished: added to `.uns['neighbors']`\n",
      "    `.obsp['distances']`, distances for each pair of neighbors\n",
      "    `.obsp['connectivities']`, weighted adjacency matrix (0:00:03)\n",
      "computing UMAP\n",
      "    finished: added\n",
      "    'X_umap', UMAP coordinates (adata.obsm) (0:00:14)\n",
      "\u001b[32m[I 2023-01-16 16:33:01,618]\u001b[0m Trial 1 finished with value: 0.534588863598973 and parameters: {'dropout': 0.1, 'activation': 'linear', 'rna_hidden': 1000, 'hdim': 300, 'shared_hidden': 300, 'rna_num_layers': 3, 'tfmr_encoding_layers': 1, 'loss_weights_kl': 1.2173252504194046e-07, 'loss_weights_tcr': 0.005898602410432692, 'lr': 1.2385137298860926e-05, 'zdim': 35, 'tfmr_embedding_size': 64, 'tfmr_num_heads': 2, 'tfmr_dropout': 0.0}. Best is trial 0 with value: 0.6324090034424144.\u001b[0m\n"
     ]
    },
    {
     "name": "stdout",
     "output_type": "stream",
     "text": [
      "Study statistics:\n",
      "  Number of finished trials: 2\n",
      "  Number of pruned trials: 0\n",
      "  Number of complete trials: 2\n",
      "Best trial: \n",
      "  trial_0\n",
      "  Value: 0.6324090034424144\n"
     ]
    }
   ],
   "source": [
    "# parameters\n",
    "name = 'logger_test_2'\n",
    "general_savedir = 'models/'\n",
    "n_epochs = 200\n",
    "timeout = 24*60*60 # seconds\n",
    "n_samples = 15\n",
    "n_gpus = 3\n",
    "\n",
    "contrib_GEX = 1\n",
    "contrib_VDJ = 1\n",
    "\n",
    "params_experiment = {\n",
    "    'study_name': name,\n",
    "    'comet_workspace': None, \n",
    "    'model_name': 'moe',\n",
    "    'balanced_sampling': 'clonotype',\n",
    "    'metadata': [],\n",
    "    'save_path': general_savedir+name,\n",
    "    'conditional': 'donor', # one hot encoded donor_id\n",
    "    'n_epochs': n_epochs,\n",
    "}\n",
    "\n",
    "params_optimization = {\n",
    "    'name': 'pseudo_metric',\n",
    "    'prediction_labels':\n",
    "        {'clonotype': contrib_VDJ, # VDJ clone_id\n",
    "         'anno_lvl_2_final_clean' : contrib_GEX} # GEX label\n",
    "}\n",
    "\n",
    "run_model_selection(\n",
    "    adata, \n",
    "    params_experiment, \n",
    "    params_optimization, \n",
    "    n_samples, \n",
    "    timeout, \n",
    "    n_gpus) "
   ]
  },
  {
   "cell_type": "code",
   "execution_count": null,
   "id": "bb2c9d27",
   "metadata": {},
   "outputs": [],
   "source": [
    "# plot resulting integration\n",
    "model = utils.load_model(\n",
    "    adata, \n",
    "    '/name/trial_XXX/best_model_by_reconstruction.pt')\n",
    "\n",
    "latent_moe = model.get_latent(adata, metadata=[], return_mean=True)\n",
    "latent_moe.obs = adata.obs.copy()\n",
    "sc.pp.neighbors(latent_moe, use_rep='X')\n",
    "sc.tl.umap(latent_moe)\t\t\n",
    "fig, ax = plt.subplots(nrows=2,ncols=1,figsize=(8,10))\n",
    "sc.pl.umap(latent_moe, color=['donor'],ax=ax[0],show=False)\n",
    "sc.pl.umap(latent_moe,color=['anno_lvl_2_final_clean'],ax=ax[1],show=False)\n",
    "plt.tight_layout()\n",
    "plt.savefig(save_path+'.png',facecolor='white',dpi=300)\n",
    "plt.close(fig)"
   ]
  }
 ],
 "metadata": {
  "kernelspec": {
   "display_name": "Python [conda env:mvTCR]",
   "language": "python",
   "name": "conda-env-mvTCR-py"
  },
  "language_info": {
   "codemirror_mode": {
    "name": "ipython",
    "version": 3
   },
   "file_extension": ".py",
   "mimetype": "text/x-python",
   "name": "python",
   "nbconvert_exporter": "python",
   "pygments_lexer": "ipython3",
   "version": "3.8.8"
  }
 },
 "nbformat": 4,
 "nbformat_minor": 5
}
